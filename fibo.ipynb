{
  "nbformat": 4,
  "nbformat_minor": 0,
  "metadata": {
    "colab": {
      "provenance": [],
      "authorship_tag": "ABX9TyM9K1UyNCD4Wwk3CLPCSJ5J",
      "include_colab_link": true
    },
    "kernelspec": {
      "name": "python3",
      "display_name": "Python 3"
    },
    "language_info": {
      "name": "python"
    }
  },
  "cells": [
    {
      "cell_type": "markdown",
      "metadata": {
        "id": "view-in-github",
        "colab_type": "text"
      },
      "source": [
        "<a href=\"https://colab.research.google.com/github/angeleliseo/code_challenges/blob/main/fibo.ipynb\" target=\"_parent\"><img src=\"https://colab.research.google.com/assets/colab-badge.svg\" alt=\"Open In Colab\"/></a>"
      ]
    },
    {
      "cell_type": "code",
      "execution_count": null,
      "metadata": {
        "id": "uC0vwV8LiBy4"
      },
      "outputs": [],
      "source": [
        "# Fibo implementation\n",
        "\"\"\"\n",
        "Develop a code that given a number, returns the Fibonacci number that\n",
        "corresponds to the of the given index.\n",
        "\n",
        "Example:\n",
        "If input given is **6**\n",
        "Expected output is: **8**\n",
        "\n",
        "\"\"\""
      ]
    },
    {
      "cell_type": "markdown",
      "source": [
        "### Identifying our base cases\n",
        "\n",
        "- When 0 just return 1\n",
        "- When 1 Return 1\n",
        "- When 2 return 1\n",
        "- The function for calculating the *current* Fibo number is Fibo(n) = Fibo(n-1) + Fibo(n-2)"
      ],
      "metadata": {
        "id": "ahHLNjrhitBz"
      }
    },
    {
      "cell_type": "code",
      "source": [
        "def fibo(n):\n",
        "  if (n <= 2):\n",
        "    return 1\n",
        "  else:\n",
        "    return fibo(n-1) + fibo(n-2)\n",
        "\n",
        "print(fibo(7))"
      ],
      "metadata": {
        "colab": {
          "base_uri": "https://localhost:8080/"
        },
        "id": "LI_J9HiDiyRP",
        "outputId": "d3748482-8f67-48ff-d187-0d192b45e451"
      },
      "execution_count": null,
      "outputs": [
        {
          "output_type": "stream",
          "name": "stdout",
          "text": [
            "13\n"
          ]
        }
      ]
    },
    {
      "cell_type": "markdown",
      "source": [
        "However if we attempt to execute a high number this is suboptimal. Trying to get the Fibonacci number located in 50 index is very expensive in resources for this recursive call.\n",
        "To optimize we can memorize the same problem by implemnting a quick object in this case will be a dictionary that will save the known values.\n",
        "But before doing so, lets understand why this is taking so much time\n",
        "\n",
        "Lets test the same function but this time just calling it searching the index 40\n"
      ],
      "metadata": {
        "id": "tfqd2lRDkVWj"
      }
    },
    {
      "cell_type": "code",
      "source": [
        "print(fibo(40))"
      ],
      "metadata": {
        "colab": {
          "base_uri": "https://localhost:8080/"
        },
        "id": "p7gDGCWtqnM7",
        "outputId": "da783d62-7261-4f43-a14f-03ac597a8a55"
      },
      "execution_count": null,
      "outputs": [
        {
          "output_type": "stream",
          "name": "stdout",
          "text": [
            "102334155\n"
          ]
        }
      ]
    },
    {
      "cell_type": "markdown",
      "source": [
        "As you can see this execution, took 28 seconds to resolve in the interpreted hosted in decent servers."
      ],
      "metadata": {
        "id": "QtudF5bvqvE6"
      }
    },
    {
      "cell_type": "markdown",
      "source": [
        "![image.png](data:image/png;base64,iVBORw0KGgoAAAANSUhEUgAAAyYAAAGBCAYAAACTsaVNAAAgAElEQVR4Ae2d/bMmR3Xf/RdFViQkEGJ90UorxC4GTFgJRbsBKdgQS05h3hUMGEEoUpbXCAU7clIGIRlJRYK24uASRqlVgoJTtqgoZoNiBC6VrUpUkrOJa3+f1Hmee+7tp++8dM/0THef+fxwq5+3eTvn06fPt0/P3J/7e1fvNfxhAxiAARiAARiAARiAARiAgZwM/FzOg3Ns4IcBGIABGIABGIABGIABGBAGECZUjKiYwQAMwAAMwAAMwAAMwEB2BhAmQJgdQmZJmCWBARiAARiAARiAARhAmCBMECYwAAMwAAMwAAMwAAMwkJ0BhAkQZoeQGRJmSGAABmAABmAABmAABhAmCBOECQzAAAzAAAzAAAzAAAxkZwBhAoTZIWSGhBkSGIABGIABGIABGIABhAnCBGECAzAAAzAAAzAAAzAAA9kZQJgAYXYImSFhhgQGYAAGYAAGYAAGYABhgjBBmMAADMAADMAADMAADMBAdgYQJkCYHUJmSJghgQEYgAEYgAEYgAEYQJggTBAmMAADMAADMAADMAADMJCdAYQJEGaHkBkSZkhgAAZgAAZgAAZgAAYQJggThAkMwAAMwAAMwAAMwAAMZGcAYQKE2SFkhoQZEhiAARiAARiAARiAAYQJwgRhAgMwAAMwAAMwAAMwAAPZGUCYAGF2CJkhYYYEBmAABmAABmAABmAAYYIwQZjAAAzAAAzAAAzAAAzAQHYGECZAmB1CZkiYIYEBGIABGIABGIABGDAlTH7+muPNNcdONdefeHdzw8k7muOnzvKHDWAABmAABmAABmAABqplQHJayW0lx5Vc17KAMyVM3vDmdzR7b3lPc+zE6WrhQ0whJmEABmAABmAABmAABlwGJLeVHFdyXYRJBcudREX+wltub/Zuub259tip5orX3WDacZah5Noo5cIADMAADMAADMDAlgHJaSW3lRxXcl3Jea3axkzFRJSk/InjrDqL6yJIwwAMwAAMwAAMwMA6GZAcV/NdqwyYESay/k6UJJWSdXZWqx2U64JnGIABGIABGIABYUByXMl1Jee1yoQZYaLr8Kw6iusiKMEADMAADMAADMDAuhmwnu8iTCq4f4YgtO4ghP/xPwzAAAzAAAzAgDCAMKkkcbfuKAISAQkGYAAGYAAGYAAG1s2A9XyXikklwotAtO5AhP/L9v9V193cvH7v7bP+wUDZDOAf/AMDMLAEAwiTShJ3645aAnaOQVCFgXEMiCjRGDRXe+W1N5q92RHuxnGH3bAbDKyPAR1jrPqeikklwssqgFzX+oKqRZ8jTODYItdcE1zDQHkMIEwqSdytO4rgUF5wwCf4RBlAmMCCskALCzAAA10M3PG+u5ubTp6eVP22nu9SMalEeHVBzucEQBjIzwDCJL8P6Af4AAZgoHQGXn7l/zYf/sTnECY9uTfCpMc4pQPO+RGEYaAMBhAmZfiB/oAfYAAGSmXg1z/+uUaECRWTfkYRJgiTScq91ADAefV3fOyT1j4Ik7T2hE/sCQMwUCsDIjzaqiJfe/TfNfKn1yW/GSNSWMpVSeJu3VEKMi3BGgbKYwBhUp5P6Cf4BAZgYGkGRGj88fe+3/zwv//lgQDRc5DPVLDc+NbTm9/IZ7HixHq+S8WkEuGlYNMSaGGgPAYQJuX5hH6CT2AABpZkoE+UtC3jGitOECaVJO7WHbVk5+JYBHMYiGMAYRJnL/jCXjAAA9YY6KqUyHXKEi65v8S/ZhEzUjX54V8crbD4v9X31vNdKiaVCC8FkpZgDgPlMYAwKc8n9BN8AgMwsCQDKjDalmbJd1937i/R8+qrsuhv/BZhUknibt1RPpi8J+DCQDkMIEzK8QX9Al/AAAzkYKBvaZZUS+R/mLjnNUaUyPbW810qJpUILxdmXhN0YaAsBhAmZfmD/oE/YAAGcjDgihM9vtzw3raMq2/pl27b1iJMKkncrTuqDU4+I/DCQBkMIEzK8AP9AT/AAAzkZkAqIfr0LTkXESD+Mi4RMHJD/JhztZ7vUjGpRHiNgZdtCNAwsAwDCJNl7AzP2BkGYKA2BtqWcU25BoRJJYm7dUdNgZhtCeQwMC8Dw8Lk4ebCy5eb1y61/z1//uzBumGNZX575bU3jppdw/fz+h77Yl8YgIEuBvQxwV3fj/lcx4Yx29awDRWTSoRXDTBxjgTntTIwLEzahce5Z19tXnv5uebcqfbvdQCSFmFC/1pr/+K6Yb9WBmTJln/T+9Rr0XFh6n5K3R5hgjBhFhYGYGAiA+OEyVPN85cuNyHVEoQJiVmpSQTnBZswsCwDCJOJA/ZSwFp31FJ25DjLBhjsbcPeY4RJTLUEYWKDE/o7foQBGJjKgPV8l4pJJcJrKshsTzCEgfkYiBcmcdUShMl8vqNfYFsYgIGaGECYVJK4W3dUTZ2GcyXIr42BaGFy/sXge0s0tnGPCf1qbf2K64V5GDjKgI4JVm1DxaQS4WUVQK7raNDBJvXY5MTJ0839X36o+ew//8rgU7V0MDl+avuErpeefThim7PNN7/1R81H772vOXPXPdwTRNyGARiAgZUyoGOJ1VwBYbJSsK0CzXXVk9TX6CsVIk8/86c7j/793X/zeLjIePC55qVLrzYXHhx+EpcOQNL++CcvHRzzRy/8tHn08Sc3QqVGO3LO9FMYgAEYGMeAjgtW7YcwQZgw6wIDMNDBgAoRqYq0/Q8SEQjy3TtufX+wMIm96V0HoU/8xhc3YqTrPB59/DzVlA4/Wh3Aua5xiR12w241M6BjQs3X0HfuCBMGMpJSGICBfQZEiMhSKREbF1/42RExokJEvncDa/g9JuOWcclA5N5jIucpy7q+d+EHrecon7Psi+TLZZTX8AADNhhAmFSStFl3FAHFRkDBj+X5Uasi/vIsqUyIEJEkX4TITSdP74gR15fhwiT+aVwa21xh4h5bzkvFVJdQYdlXedy5PuQ1/oEBGAhlQMeE0N/X9jsqJpUIr9rA4nwJsqUyoEJExEbXsij57sydd3cKEf/awoVJ3H0lOgBJ2yVM/HPRaoqIka7rk++4iZ4+6rPDe5iAgfIZ0HHBqq8QJgiT4OTLaifgusoPxFN8JIm6VhT6lmfFCBH/fEoSJv65qVBpq6aIPTYVoQceQqgwFjAWwAAMVMAAwqQCJ8lAbN1RfrLBe9vJNP6d5l+tigwtz0pl55KFiXuNLPuaxpVrS15jSxiAgRwMWM93qZhUIrxywM8xCbq1MNAnRPRekdjlWTHXXosw8a9JhIrcJC9Lu+R+Gn/pl3zGsi/igM8N72ECBvIxgDCpJHG37iiCQL4ggO3Ls70uT0p5n8gUP9cqTPxrVrv2LvuS+2/4J48seakkN/AZ53158RyfxPnEer5LxYTgygALA1Uw0FcV0Zl9ESo5BjkrwsS13dCyL7k/RaopUnFxt+N1XJKBvbAXDMBADAMIk0qSNuuOioGW3xLkLDDQJ0SWWJ4VY0OLwsS/fnfZl7/ka8cfVFMQapXkDT7jvGfsrIEB6/kuFRMCKIMoDBTBgAgRfXpWb+Ib8RjfpQaZNQgT35YqVLqWfWk1hWVfJHs+O7yHCRgYzwDCpJKkzbqj6MTjOzG2K9d2fVWR3MuzYrhZozBx7RO67AuRUm5fdP3Ja/wEA+UyYD3fpWJSifAiSJQbJPBNuG9UiAzetF7ZcqC1CxO/D2g1RaomfvVL7k2RxzhvnpJWmZ/96+R9eN/HVtgKBtIwgDCpJHG37ig6dJoOjR2Xt6OKkbYlP1IVkQS19huoESbdXIlIkT/xcxsD3ETfbTviFbaBARjwGbCe71IxqUR4+WDynmBVKgMqRNpmy2X2XJJTSVLld6VeQ+x5XXntjc1V190861/sOZX6e6opxK5S2eS8YLMGBhAmlSTu1h1VQ2fhHNcb1FWMSAXEX7qjVRHuL1gvH32xYbiacr76ilrf9fMd/QIGYCCGAev5LhWTSoRXDLT8liA3NwMqRNqqIiJEtCoy93mwf1us91VThKvNvSkP8A8e4d4W9/gTf8YwgDCpJHG37qgYaPktQW4OBlSMtN0nQFUE5uZgLqSaQiUO9uZgj33CVakMWM93qZhUIrxK7SCcl93gLUJEbkqX+0HalmdRFbHr+xL7tfLYVaV79PHtki/5XYnnzznRX2AABlIwgDCpJHG37qgUMLMPguIQA1RFYGSIkVK+76umbCp4LPlCoFWSv5TSpziPOuK/9XyXigmBi8Fr5QyoGPGrIvJel2hJEsigVcegtUY/DVdTnuQG+pXHuTX2C67ZZsxGmFQSzKw7igBjM8Dk8KsKka4lWvJ57f9XJIddOWYZfVT4lvtOZMmXfz8U/zOlDB/RV/ADDIxnwHq+S8WkEuFFJx7fibHd3uZ/hojgkKca+ZURrYqcufNuqiLEA3MMqBD3RYpbEeQGeuIr4wQM1MIAwqSSgdq6o2rpMJxnOcFdEzIRHl1iBH+V4y98Mb8v+h5HrNUURMr8foB1bAwD4xmwnu9SMalEeNGJx3fiNdlOxUiXEJGqyZrswbXSb7oYGBYp5zdLwrq253PYggEYyMEAwqSSxN26o3LAzzHrCLoyw9t3vwgzwHX4kf6W109dT/mSiqM+ihgf5fUR9sf+MLDXWM93qZhUIrzojARkZUCqIn3/X0REivxGf08LOzAQxwAiJc5e8IW9YGA5BhAmlSTu1h1Fp1+u05doa12iJTO3Xcu0ECPrZqREbi2ck/Y9/+b5bSWFxxBb8DHXQOysiQHr+S4Vk0qEV02dhnNNF+SlMtInRrB1OltjS2w5xICIFOmTvkjRG+d5zDYMDTHE9zAylQGESSWJu3VHTQWZ7esJhkP3jODLenyJr+z6ql+knOd/AVWSO9BH7fZRq761nu9SMSF4ci9CAQzocpGuZVpWAyzXRVJggQF9wpdfSdEb53kABZxb4JxrKINjhEkBSVtIZ7DuqBAb8JsygkaoH4bEiHwfui9+V5fv8Zddf/XdOH//Aw/xCOJKcgr6qN0+Wrtvree7VEwIkiS/CzKgYkTWpLvVEZlZ5WlaDIS1D5ic/y7D2t/bKincj7JrK9jBHjAQxgDCZMGkbQqU1h01xTZsG9bZ57STJihtYkRmWOc8NvvO7398gA8kBjz6+JM7ExLbm+b5R470D/oHDIQzYD3fpWJSifCi04Z32lJs1SZGRJhodaSU8+Q86mMLn9Xrs777UWSpF76t17f4Dt8twQDCpJLE3bqjloCdY6QJqm2CBDGSxrYwih0tMaD3o0h80GqqPnqYG+Zh3RLrXEs6nq3nu1RMKhFedOp0nXouW8qacTfBkERDlm6QYJTvu7mYYL/4PoQBmcyQOOEv9Xr6mT8lfjBGU0WDgR0GECaVAGHdUSGDG79ZPgmiOrK8zeEcm1tmQKsoWkE5WP7JMq+d5MwyA1wbMa6PAev5LhWTSoRXH6R8lyeIyVO0jiQPX2aNODzm4RG727K7Tnq4VVhZ5iVxB1/b8jX+xJ8xDCBMKkncrTsqBlp+O2+QaxMkPPpzXpvDNPZdKwNtN8tv7lmjgoJAqyQ/W2vfneu6ree7VEzo2AT3QAZEkLizl/Ka+0dImOcafNgvbPkM+PexSQWFSRE48TnhvW0mECaBSVvujmDdUbntu+bjy5IK9x+kiSAhGbAd+NfMO9deNtsSj3yBIjfNy+f4rmzf4R/8k4IB6/kuFZNKhFcKmNlHfFB0l20hSOLtB3PYDAbmYcC/SX5z/wnLuxBn5DTmGUCYVAK5dUcxuM8zuHfZVWYfZaDXm9u54XRZ+3f5hc/xAwzsMiCxyp9AoXqyayOYwR6WGLCe71IxqUR4WepUpV+L3DeigoT7SBjQSueV84NRYcBd3iVxC3ECF8QGmwwgTCpJ3K07igCzTIBxZx5l3TZ2X8bu2Bk7w8B0BmR5l/6TRpZ2TbcnTGLDEhmwnu9SMalEeJXYOaydk3uDOze3MyBZ45vrWQfT/tIulqGuw+/07/X4GWFSSeJu3VEEnXmDjs4yyhIuHgE8r61hGfvCwPwMaPVXlnXdz03xVL8ryeWIDcOxwXq+S8WEzrr6gC3VEb2nBFEyHBQZOLARDNTBgIoTWdZ19q57Vh/r4bYObvFTv58QJpUk7tYdRUft76hj7SPLHhAl89h2rE/YDn/AQDoGXHGCXdPZFVtiy1wMWM93qZhUIrxydQDrx9UlXHJ/ifVr5foYSGFgfQzI5Iss55IJGO6dW5//6fP2fI4wqSRxt+4ogsu04PKvH368+au/fqX5q795Zdvuv3710uVG/g6+2//+3s98EaFSSd+nb0zrG9jPnv2+8di3t7FuP569/MqlTZx7+ZX/cyTWSey7+0P/jHhHvIOBShiwnu9SMakERJKHacnDp+/7rYMlW7p0q6899c47CNL0DRiAgSoZePD3vhYV725+221VXifj4rRxEfvVaT+ESSUDk3VHEUCmBZDrb3hb1ECNvafZG/thPxjIx8Cx428PjneyzAtf5fMVtsf2sQxYz3epmFQivGLB5fdHg53eT9JXKWEd9lG7wRI2gYH6GHD/L1NfzOO+k/p8S39ct88QJpUk7tYdRSCaHojcJ3D1DdTYerqtsSE2hIG8DMh/ge+Lc/Id1ZK8PqKPYP8xDFjPd6mYVCK8xsDLNkeD3iOPPdk7WDN7eNRmcIRNYKBOBoaqJsS7Ov1Kf1y33xAmlSTu1h1FIEoTiIZmEbFzGjtjR+wIA/kZ6It3VEvy+4c+gg/GMGA936ViUonwGgMv27QHva57TZg9bLcXHGEXGKiXga6qCfGuXp/SH9ftO4RJJYm7dUcRiNIFoq57TbBxOhtjS2wJA2Uw0BbvqJaU4Rv6CH4Yw4D1fJeKSSXCawy8bNMd9PyqCbOH3baCI2wDA3Uz4FdNiHd1+5P+uG7/IUwqSdytO4pAlDYQ+bOI2DetfbEn9oSBchhw7zWhWlKOX+gj+GIMA9bzXSomlQivMfCyTX/Q0yd0MXvYbyc4wj4wUD8DWjUh3tXvS/rjun2IMKkkcbfuKAJRWCB64/F3NcdO3NocO3F6/09e+++33x0/dUdzyzvfN/Db3W1l//gizBfYCTvBwLwMHI1tu/Hq8Ptbm9141xYXj277+r23E+8qyYHoa/P2tZLsaz3fpWJC0DE18OzdcnujnXaOVgRPSQGKc1nPYISv8bXPwBwxzt0nEzEw5zPH+/xMaB+16guECcLEVKKNMMkfNK0GS64LtkpjQBOUuVqECcyXxjzns3cw+WrVFggThAnC5NTZg44+NMBTMWGgtjoYcF31sT0Ur6Z+jzCpjwn6sX2fab+26muECcIEYYIwMcWA1WDNddlPOGJ9rAnKXC3CBOZimeT38zOj/d2qrREmCBNTSSlLueYPilaDIdcFO7UxoAnKXC3ChD5RW59Yw/lqf7d6rQgThAnChIqJKQasBmuuiyTRZ0ATlLlahAnM+czxPj8T2t+t+gJhgjAxlZRSMckfNK0GS64LtkpjQBOUuVqECcyXxjznw83v1SStGpiBdt2BFGGybv/T//H/mhjQcW+uFmFCf1pTf6rlWrW/13K+sedJxYSKSTXiMwRuhAkDaQgn/AZOLDCgCcpcLcKEfmKhn1i7Bu3v1q5LrwdhgjBBmHCPiSkGNLjRklRZZ0ATlLlahAl9yHofqvH6tL/XeO4h54wwQZiYSkqpmDCQhgQ+fgMnFhjQBGWuFmFCP7HQT6xdg/Z3a9el14MwQZggTKiYmGJAgxstSZV1BjRBmatFmNCHrPehGq9P+3uN5x5yzggThImppJSKCQNpSODjN3BigQFNUOZqESb0Ewv9xNo1aH+3dl16PQgThAnChIqJKQY0uNGSVFlnQBOUuVqECX3Ieh+q8fq0v9d47iHnjDBBmJhKSmMqJueefbV57dLlg7/nz59ttMN3tcdOnDZlr5AgwW9ITmCgTAa64tTO5w8+17zkxLltzHuxeSJgQgZhUqbf6Y/r9ov2b6scIEwQJqYS7VBh8sTFy81rLz/XnAsYnDUISIswWfeAYHUg4Lrq5NqNTZ2vN8IkTIj4+0CY1MkF/dm237SfWvUzwgRhsj5hcv7FUaJEggHCxHbAtxrouS6b3GqC0ttKvLuEMKEP2OwDa/Sr9ner144wQZisTJg83Fx4+XLz0rMPDy7b0s7vtggTBjergwHXVR/bbmzqfD1hIoaKSX1M0I/t+0z7ulVfI0wQJisTJk81z196tbnwoLSH95e8dvGpIKGCMLEf9K0Ge67LHruaoPS1/r10MdUThIk9ZogD9ftU+7tVXyJMECbrEiYHN4K6Sxu2IiWkioIwqT+oWw3mXNf62NQEJabd3F8XuLQLYbI+pogj5ftc+7tVXyFMECarFCb+E7i2s4quWGl/QhfCpPygbTVYc12w5zOgCUpcG76cFWECcz5zvM/PhPZ3q75AmCBM1iVMTm2rI74wOR54gyjCJH9QthqMuS7YimVAE5S4FmESa2d+T98siQHt7yWdU8pzQZggTFYmTNoH5U3FJODxwQgTBqiUAZh9wdMUBjRBiWs7JmdaHp1OxQQ+p/DJtvPwo/3dqn0RJggTM8Lk/i8/1Nz2vg8N38S+qY7IDfD7y7X27zs5UkVpGajffeaeRo5jNSBwXfMMJNgVu6ZmQOKQJih97RMXd5eoxtxj8qu//tnm/geId6l9x/6IB1MY0P4+ZR8lb4swQZhUn2Sfueue5kcv/HTzH9yDhIkIjo04OXwqV4gokWBwz0fv2xzn4gs/Y8Cm71Tfd0oenDi39uRNBMn2v7dfDhQmh3Fus11AZVgTn8996auH8Y4JGfo7Mb8IBrR/Wo2RCBM6WhEdbUwHO3HydPO9Cz84GKRFnAQLk5ZqiHb2vlYqJiqCZJCX1yKMxpw/27QnXtgFu8DAUQYkzsiEiIoSiT19sSrFd++6/YNHYiwVlKO+gVdssiQD2reXPOaSx0KYIEyqS6rbBIkur9q75fZZB2u5x0SO/9F779sRKCKQECgMTksGb461Dt764p0mKHO1eo+JH+9EIBHv1sEfcaY8P2t/t+obhAnCpBphIgO0u4xBZgxVkGgHXUKY6LFu8s5HZjIfffzJjXDR39CWF9TxCT6pgYGQeKcJylytChOxl54PFWP6Tw39x/I5an+3eo0IE4RJ8cJEB0RdwiCtL0i0gy4pTPSY/vltBBM3jBbPlfqPlkSrJAb8eNIX7zRBmat1hYnaqH1C5jwTMuQSxPyFGND+rn3SWoswWQgka+AsdT1uhUQGaFkyJQNj1/FzCBM9F3/A3twgzw2jnb5Su9EiDGBgy4Af7+R9X7zTBGWutk2YqK98AaUVbPlcf0NL34aB9Axof7dqW4QJwqTIQUTWL49ZMpBTmGiQkIFZlnRphYcKSvrArLamxbYWGPDv4ZAJmJAEXxOUudo+YaJ2b52QoWJc5LiqPqOtO25qf7fqR4QJwqSoACqDsf+kLRm0QztgCcJEz1UG7CnXovuhrXsQwX/4r4sBiXf+k7ZibirXBGWuNkSY6LUxIQPnygLtvCxof7dqZ4QJwiQ46Z+zE7QOaiOWQZUkTNRe/mwoT7SZN2ir3Wmxc6kMtE3AdN0313cNmqDM1cYIEz1Pf0KGJa30Q2WDNg0L2t+t2hNhgjDJKkxkgG5bVz22w5UoTORadLmDuzyNJ3ilCdJjWWE77L80A3680/syxp6HJihztWOEiV6LTMj4FeOYapDuh5Z+CgO7DGh/t2oXhAnCJJswSSlItIOWKkz0/FoTE9ZjZ2NQ/UK7O/Bhj/T2mCPeaYIyVztFmAhDMiHjV4xFrCBQ0vNFn12PTbW/W/U5wgRhsnhSKIOSu65aBioZwFJ0stKFiV6jVlD0BnmWO6xnUFEGaNfhc0nM/XgnExQp/K8JylztVGGi19g2IUPFeB38KwO06fyt/d2qTREmCJMkA2RIB5HBidL+bnBqs4kkMiH25De7tsQe2KMkBtr69torBa0TMlSMiffkYVEMIEwqAca6o0oacGPPpW22bMyNnrHHren3krC495/IDOvak5ia/Me5IoqUAeLdMAvYaNhGyhMttvIZsJ7vUjGpRHj5YNbyfo511bVce+x56mCtAkVvjJXPY/fF7xnMYGB5Boh3cTaXCopbRWdCJs5+9PF12gthUknibt1RtQWgOe8jqc0WsefbutxhxKOTY4/L79c5yOH36X73K56SbDOhEG7XthvksV+4/ejD67KV9XyXikklwquWwCODiTsDJrP+LEkaFzTFlu4M7KaCwnpsqkfErGIYIN6Ni21t45kf7zYPBCHeFcN6m8/4LB3/MbZEmFQyCFp3VAy0uX57JIlmlj/JoCIVFF3eJU/xYjY2z2CQq19x3PL87SfRuuwSX033lV8xxrbTbQqXtmxoPd+lYlKJ8Co5sPjLtkSglHy+NZ4biZCtgaVGBjnnLYOy7Egf8y0t8W6evsn9J/PYlX5cv10RJpUk7tYdVWIwYRnD8gHOn01kucPyPiixL3JO83NAvJvfxm0c+/ef8P9P8vihzTd8lscX1vNdKiaVCK/SAgDLtvIEJOWgLUmSz/R72rz+wf627E+8y+tPiW1HfMD9J8T7leZvCJNKHG/dUaUkOjJAuPc7sIwh74DtziZu1mIzWDNYVxKzS4lpfefhP22LeJc33rVVjHm4Sl6f9PUfvpvHN9bzXSomDOJBiVzbjBUDwjxBJzaYM1iX4YdYv/H7cv1GvCvXN9JvEIxl+4fYNq9/ECaVJO7WHZWzo8sgwM2e8waaFP5tq2bJZyn2zT7K9z8+SuMjbm5PY8e5eWybkLmfijHxvpKcdUr/sJ7vUjFZAcRjO4Akte7/JJHXMhiM3R/bzT/gtw7WPCUNZolzgwy0xTuE/fwxa+q44PtNlrTit/L9NtXva94eYVLJgGbdUUt3QrdKwnPk6wvy/mDNk2zq8+HSfX7Nx3OrJBLv5P2a7VHjtcv9P+I7qVcUXhEAACAASURBVO7ztELiXY0Mh56z9XyXikklwisU2Km/8xNaqZJM3Sfb5xsk3CfZMFjn8wN9oEzbE+/K9MvY/uJXjKme2PLvWC6sbYcwqSRxt+6oJTqWWyXhH4fZCeh+8iXVkyV44hh2GLLoSzfeSQIr7y1e5xqviacVEnssc28936ViUonwmruTuTPrUiWRZHbuY7L/ZQcP18eSiHGj6LL2h/cy7O0LdarCZfgldf/wqydSMWZcs+nr1OyUvj+ESSWJu3VHzdVR/EFakte5jsV+8w8KMlhLIqZPWUOc5PcJ/WI5H0i80/sQqAovZ/ecjB+pnjDGMcZXktd29Rvr+S4Vk8oB7QI35HOWMqxjYPZZkOTMr54wk7hOFnw2LL/3b3AXkW75erm2wz7tV0+YkDm0DZzUZwuESSWJu3VHpQ4ebmLKUob6AlMKHmSw1tljaT927+dJ1CqJdyn8v6Z9yH1VWiXkHqt1xjvh3R33WNq1Xg5qj33W810qJitLRFi6RTB2g7KIE03aeGoXbLhsWHjtxzvEN4wLE+6EDI+GhonaYh3CpJLE3bqjUnQcCcg6ayiBmafQEJCFK+HCnUmU1yl4Yx/wlZMB4h38dfHnLu2SsZClXbDSxUqJn1vPd6mYVCK8pnYOd5Bm6RZBuI0n954jlrvASBsjtXzmsky8g+U2bl1xsnkQwgNMyLTZic/K6z8Ik0oSd+uOmhIcGKTLCyxT/DnntjJYa1VNlnbNeSz2DZdzMEC8g6sYrqgWw0sMLyX81nq+S8WkEuE1tjMwSBN0Y9mR6pq7Bjt2e34Pc7kYIN7B3hj23Ce2sawLhsYwtOQ2CJNKEnfrjhoDPYM0AXYMN7IN4gR2xrKTazs33rEUEX5jOXTFCfzATyw/S/7eer5LxaQS4RULvXtPCUGWIBvLj/xelnVp5QSGYGgMQ0ttQ7yDzxSsuRzxEBCYSsHUHPtAmFSSuFt3VCzc+t+9ufGT4BrLjvv7nYGam0O556bQ8YB4R5xz49aU12fuvGdznx1ProSpKRzNua31fJeKSaED7RSodZCWwDplP2xLYBYGdImM3Awvr+ECLkpigHgHj6l51BviZQyVyZnU+2d/MDuFAYRJJYm7dUeFQqxJpDxZiSSS4BfKzdDvGKhhaYiRHN+79wUQ72A0JYMa83g6IVyl5CrFvqznu1RMKhFeoTD/6Mc/3ZShGaQJpqHMhP7ukcee3LDF/SawFcrM3L/TR1sT72AyNWtSKdFqHE/qgq/UfE3ZH8KkksTduqNCINYZHgmmIb/nNwTbGAbc/3FyliVd9LHMY4MIZBEmxDviWEwci/mtCF5hTKomLOmCsxh25vyt9XyXiknmwTUlvMweEjhT8tS2LxW/Tz+D+G2zD58t0wfdhzJQLVnG5mtlW6smVIrhrJQ+gDCpJHG37qihDqGzh48+fp6Z3EqYHfJpid9LQqiPEKZqwkCdi1HiHewtxZ5WinlKF8wtxdzQcaznu1RMjCSxmiwye0jwHApqU7/XqgkziLA2laWx22u8O3HqViZijIxhY1lYYjutmkjsW+J4HIPY2scAwqSSoGfdUX2Q6jpYWcrV9zu+I9ilYECX0fC0GnhKwVPsPtwnccVuy+9hdgwD+r9NuJ8Jfsbwk3ob6/kuFZNKhJeCfcXr3tz4f7/9wEP7T0s6f+Q73Y6WgDqWAZ83ef/0hR9smJPlXG3fjz0W28Gpy0AbWxrv/vAJ4p1rK16n6zs+dzefunUT72Tyz/9O32P/dPbHlv22RJhUkrhbd5R21L/5X68dBEi92b2vvf6GX6SKUgnD6uPS2g9/4jejmLvw/T+DOZhLwsArf/t3Uexddd1NSY5bWh/kfPoTtdT2+f0/eCyKu2889iTcEfMWY8B6vkvFpLLO9O1//92ogHnltccX6yypBwf2t+xg3GXvvRPvjGLuk5/+IsxVFle6fJ/78+9895ko9nKfL8cvI2ZN9cO7brsrirt3nn4fMY+YtxgDCJNKYLPuKA20t535QHDA5OZkG4Ok+j5nqzd/9lXn9Ls3HadKl9NXlo79oY9/Njje8U/wiHep2L9u79TB0wc1rvW1qY7LfmA4hAHr+S4Vk0qElwtraJLIP4QiyLncTHmtN3/2Dc7yHWIY5qZw5m9741vfffDft4fY87flPSxOYcB9yEIfe/K7KcdhWziNZQBhUknibt1RLrghSSIJIsHOZSbF6xBBjBiGuxSsufsISRB5jCvcucykeO3+z6YuYSKPrU5xLPYBvzEMWM93qZhUIrx8aIeSRBJEAp3PzNT3Q4KYf+4Jc1MZa9te/sHdULxr247P4HEqA0OimGoJjE1lbMz2CJNKEnfrjvLh7UsSSRAJlj4vqd73JYj8szu4S8WZv5++BJFqCdz5vKR631c1oVoCd6k4i92P9XyXikklwqsN3K4kkQSRgNnGS4rP3H/m6S5vQAzDXAq+uvYhCWJXvOvahs9hMgUDXaKYagl8peBrzD4QJpUk7tYd1QZvW5JIgkiwbGMl5WdtCSJiGO5SMta2r7YEkSdxwV0bKyk/k6WEUh1xJ2KolsBdSsZi92U936ViUonw6gLXTxJJEAmYXayk+twXxDxoAeZSsdW3n7aqSd/v+Q4uUzHgi2KqJbCViq0x+0GYVJK4W3dUF7xukkiCSLDs4iT1564g5kELcJear679uQki1RK46+Ik9edu1YRqCdyl5it2f9bzXSomlQivPnD/5D8+27z6t3/XSPDs+x3fEVBTMXDmzrs3zH3jm9+GOQMxJBUXc+9HYpzGu7mPxf6Jly4DH/nk5zYxT1r3c17DydIMIEwqGXStOEqvY6n2quveQpCthPG5g9+xE6ebubmb+xrYfz1JwpXX3jg7bz7PxLt6+FiiL+/dcvusDB47cSvjK+NrcgY0ri3RR3Icg4pJYZ1GgVuqZaBmoNbAgzCBBWVhiRZhAm9LcNZ3DIQJDPbxUep3mh+Wen5TzwthgjBJruanQsn2eQYLhEkeu6+Vd4QJvOVmH2ECg7kZHHN8hElhiXuXE604Sq9jqZaKCYFZ+xTCBBaUhSVahAm8LcFZ3zEQJjDYx0ep32l+WOr5TT0vKiaFCS8FbqkWYUJg1iCCMIEFZWGJFmECb0tw1ncMhAkM9vFR6neaH5Z6flPPC2GCMGEpV2EMTO3UY7dHmDBIj2VnzHYIE3gbw03KbRAmMJiSp6X2hTCpJGmz4ii9jqVaKiYEZg2mCBNYUBaWaBEm8LYEZ33HQJjAYB8fpX6n+WGp5zf1vKiYFCa8FLilWoQJgVmDCMIEFpSFJVqECbwtwVnfMRAmMNjHR6nfaX5Y6vlNPS+ECcKEpVyFMTC1U4/dHmHCID2WnTHbIUzgbQw3KbdBmMBgSp6W2hfCpJKkzYqj9DqWaqmYEJg1mCJMYEFZWKJFmMDbEpz1HQNhAoN9fJT6neaHpZ7f1POiYlKY8FLglmoRJgRmDSIIE1hQFpZoESbwtgRnfcdAmMBgHx+lfqf5YannN/W8ECYIE5ZyFcbA1E49dnuECYP0WHbGbIcwgbcx3KTcBmECgyl5WmpfCJNKkjYrjtLrWKqlYkJg1mCKMIEFZWGJFmECb0tw1ncMhAkM9vFR6neaH5Z6flPPi4pJYcJLgVuqRZgQmDWIIExgQVlYokWYwNsSnPUdA2ECg318lPqd5oelnt/U80KYIExYylUYA1M79djtESYM0mPZGbMdwgTexnCTchuECQym5GmpfSFMKknarDhKr6O3ffC55qVLl5vXdv5ebJ44dbbZbLf53nmvn7e0VEwIzBpMxwiTJy4Kh2GsCZt6LFq4GydMnmqel7h38altrJOYRryjX43MU8KEyT5zB+Ptq82FB/fH2pYx1R27j524Fd+M9A1jRPcYoYxZtREVk8I6jQLX2w4NxEPfO8EUYdLd+a12+q7rihYmG84QJl325PP+vjVGmJx79tXthAzChIQ3wdgdJEwefK65cP5QiGwZDBMnCJP+GECMHGcfzQ+t2g9hkiC4pYRDgettz7/YP0uNMGHQHsF1nDB5uLnw8uXm+YsDLDoiWJhO2VfY17hBrRS7RQuT/bj2vFTpECb0pRExzmc/SJh4Mez4qW0F5XlHrHSN1wiTumOUz0sp75W3Us4n9XkgTBIEt5ROUeB6WxEmLz/XnDsSMA9ndXq3d7ajYkLgVH5jhMlm1lCSwyGR7LAmTOqxaOEuTpjsC+HzZ5vN8kFXmHiM9cU+4h3cubEHYQIPLg+1vNYYV8v5xp4nwqRCYXKwnOFgzWv4Gn8FWlsGagKzBo1gYeKKEfd1QIKox6KFuxhh4ooR97XGsdCWeAd3buwZI0w2/AVODFIxgTeXt1SvNd6l2l9p+0GYVChMFEptN4Ey4gZk3U5aBmoCpwalIGGyWU7jrK9GmFAFGhlDQ4XJZiLGSQQRJsQsjVlT21Bh4k4GvvTsw4cPXhiYjEGYwOpURtu21xyu7TsLnyFMRg6qczlfgYtrt8scYgKm7h9hQuBUloeFScvaaoQJwmRkDA0SJi18IUyIWRqzprahwkTHS2lVpHCPCRxO5W/s9srj2O1L3w5hMnJQncuxClxcizCZyx9r2u+QMNEBefcx1YePrQ4RxmuyJ9fan7gMC5NtXOvi7bVLTuVuYOZa4ykTMf0+WRuzY4SJsBQqjqmYwNscfUrj2Rz7LmGfCBMTwqRlJpuBmpnsSLaHhIkGw522ZUZ753uPwxKCHudQRrIwLEzaH+YRmhS2cYgwKcP3pfRBhAk8lMJizHlobIvZpqbfIkwik7e5navA9bVPXNy92X0zUHOPCUJkIssIEwbpueObu3+ECby5POR4HSJM/PF2+yTCyw1LueA3B7NyTM0Pcx1/7uMiTCYmc6kdpMD1tVshcriEZsqjg5lBJLgqwwgTWFAWlmgRJvC2BGd9xwgRJkeXsIYvIWQpF4z38Tf2O80Px25f+nYIkwqFiUKZokWYEDg1SI0SJt5SrSEm9Vi0cDdWmAwx1vc98Q7u3NgTIkz6eBr6DmECby5vqV4rd6n2V9p+ECYIE5ZAFcZAriCBMGEQXZI9hAm8Lclb27EQJjDYxkXpnyFMKknarDhKr2OplhlEArMGYYQJLCgLS7QIE3hbgrO+YyBMYLCPj1K/0/yw1PObel5UTAoTXgrcUi3ChMCsQQRhAgvKwhItwgTeluCs7xgIExjs46PU7zQ/LPX8pp4XwgRhwlKuwhiY2qnHbr+EMDlx8jS8wduGAYQJSeHYWJVqO4QJDKZiacn9IEwqGUStOEqvY6mWigmBWQLqo48/2fzaRz9/8BjCufj70Qs/RZhUElPnHmgRJsSeuRnr2//3Lvygue29H5o15t3zkfs2sbXvPPiOfhDLgI7PsdvV8nsqJgUlCTKbrMAt1d71wY+SKBbEQI7Acf+XH2rkv2svIUzkOCKCclwnxywrAfjmt/5o8Xj3ld97GPZWHu8kDogokVi0hDCR40iMJf6UFX9q9ofmhzVfQ9+5I0wKCdJn7rpnEygVuKXaZ/7LDwmahTDQ11Hn+k65k8Hz9Nl7Zk8UpWKCOGGAlsTwxz95aXbe/Dgq8Q5hvG7+dCJmCWHy7jPbcR1xsm7mUo/fGtdS77eU/SFMCkhK3eRQgVuqlYGaoLnOoOly99F772uWusdEeIO5dTInA98jjz258X8uYSLsIU7WyZ/EOY0/Ev+WuMfEPeb9D1A5KSX5rfk8ND+s+Rr6zh1hklmYyPItDZQyi6jALdU+8Ltf3xxfZrIJmusZrF1RossMlhAmEozO3MksYl9QtvydO1v93l+ed31/Www9+c6zB/EWcbKeeLeJO/urEmS8lfgnny0hTOQ4yv3FF37WfOzez7OsK3PeVXuM1dhW+3V0nT/CJGMHEVGiS1tElIiTJDlc8k9uQHWD5tn9gN0FDJ/XP5j7Ylh9+sbj75qdPT2WziIiiOvnSX061KrPNTGU2LNkrJNjyTFd/lWUD50739fNadtEjPh07pj3hr23H4gQd5xVYQRXdXOVy38Ik4yJe4zTa3SU3oCnoiTmelP/lqC5jgDZJoZTsxS6P5c5BLFt/nxREsrIXL+7yalUI05ss+cK0dxVMo15MiEj5zUX3+zXNtM15rsxTFIxySS8VJRIgIpx2Jy/JWjaDmbCjnJXghiW81HmZIkDA7VN/tzZahEoc8awmH27YollrDbZc0VJCTFPBLHeY4U4sclcTAwa+1uESabEPdZhNTlKk8OSRInYm6BpO1CWyJ0kDipOGKjt8VeqKNHxBXFijzn1rbQa80oQJXpeMs7qecmEjH5Oa5vFlP6tKd8dc91UTBYWXhqQJAkrcZ0pQdNmcHS5K60y4TJXmlgfE1TZZtuHXFGSewlNn09UGEuSKK/7fst39cRHN+aV5jeJwRLr5H6rp5/Z3l9a2jlyPuWyjjBZOHEf2xlqcJSWcPXmz7HXOvd2btBkRqfc4BTKgSZeJXMn4oSBun7WlEmJIcKb/JUsSvR8tY+UOmGk50kb1kdcUVLaRIz60B1na+gjet60YQzOaaca8t0p10/FZCHh5S4ZKLFS4kNE0MwffHyfjHnvzlqXzh3M2WBO/KiiRBLEMdzm2MYVJzyMoV4W1Y8lT8Qo3zIho32F+5zqZU79uVSLMFkocZ/q0JIdVVNy6PphJ2iyxKGaBEt96HJX0k3Hen5trZvUSoLR9hs+K3cAF//pbHVNokSYkninSS0PYyiXsb7+78a80idi9DrcSUvESZ3cqS+XakvOd1PYgIrJzMLLDZQ1Bp0dccJ/ra0mUXYT/NqWCehALctq+GdkdQ3UKkrEdykGqKX34QorxEld7LljbW1xwxXEtQiqpfsmxzvsjwiTmRP3VLCV6Kiak0PXL5ooykDNEofD4ODaqLTXmiDWNmutdnQHaulH+jltufwpc7WKEmXLFSe1X4tek/VWfPajH29vJq895glzxLxy41wJfanEfDelXaiYzCi8dKCuNVC6oJEo1hMolbvakyqXOZdFXpfHovqqhnX9IfxIpVj6j1xPbRXHkOuz9huNeTWPtcKcXkftsdsaX6VdD8JkxsQ9pbNLc5TFAKNPFSNolpcYal+ylCC6M9c1JxzqG6utu4TG0jIUlrGWG+fcvmRprEUQ18Gcy1+O16Xlu6ltQMVkBuFlKTl0gXNndEgUywugFhNEd6CWfuXyyOv8DLrM1fKAhRhudBmrVE5qu28h5jpr/a3FsVYmZHhSV/7YVnKfQJjMkLjP4fBSHOUO1JZmD9VnO4kiN8MXkyhbHsyEOR2oucepnAHbZc7ycidNfuUeO4sxXWN7ba3lsVYFMcyVE+9K6h+l5Ltz2YSKSULh5Q7UNT6BKxQy9zotzpKG2qGk3+lyBquVLDc5FP5Ksv1az8U6c65flT+WsZaTKCp/VkUxzJXDmhsLSniNMEmYuM/p0BIcpYHSanLo+k9ndGSgJlHMG0DXMoBp/3r6mXr+aZ/bZyy9Xgtz6jN3GavVRFivtYZWY4HlsRbm8o6rJfeDEvLdOe1DxSSR8FrbQC1Q6uDALGK+AGp5OYMf+EQAC2uyrEv6m/8975fhcE3MuUy5SwotV8Tday7x9Zr4c5njHqdl4luJzPvnhDBJlLj7hk39Pqej1hQoXb9J0DxIFLnfJEuirM/uX0uifubOezbCRLiTfufyyOv5B253Gecak3OtFLP2f37W2vqzy99a+r/LHKsT8nDXxmLOz3Lmu0tcNxWTBMJLb8xd40DtDhTcmLxs0NSKleXlDG1BcI3VyTY75Phsrcy5toa/ZeOca/u18ifLByXPYBlrPvZcDnO/RpgkSNyXcGIuR601ULo+1YFaZhHdz3k9XxB1q3QnTt26Kru7a6/XOBmQq19pP1/70k2XP+43mS/G+Zxr5UASdP876+9lAlBXJ4gdrF8v19ffr3Llu0v5hYrJBOG1kxyu+ElBEjRVoEnyshS8az7Ogb1XuoRO+56IYSp1/YNYin7iVkbXsoSmz2669l+SRfibnz/xha5MWCt/KszWPjHQ1y/X8h3CZELiviQkORy1tvX9ff5k7f8yg7P4gJnrra1Z3rAccyqEqRAc2lz7IZXiQ5v0jRFTvlP+pJ2yn9q3VTvQD+dnrmRWcuS7S9qDislI4aWD0toDpQvrI49t18Fik/mCJjPXh7ZlecOhLdx+mPq1ztSucQlNny1d/lhSOB+LWh0V/ta2bNXnTyt1YgsqdfMx59u9tPcIk5GJ+9KOXNpRay8rt/lXgqaugyVozhM0tUrAjNnWvpo0s7xhHt6kn2ufXusSmrZYp59p0ixVExEq+jltOh61SoD429pUJ0W5ET4dY7X116Xz3aXtQ8VkhPA6TA7PMxB59tNEkaA5T9BUQUwSdGhfTVxInA9tkmog0f5MFbTbtsofkwXdNhrLowo/iXtj92FtO4n9Og4wAZieuRp4QZh4iWepTlvSURoUSISOBgWC5lGbpOozCOJ225I8t9slBXdUS4Ztq8trqNoN2yqWSY15UiWI3dby77VqghhOz1wN3CyZ7+awBxWTSOFFEjQcCDRoUjUZtlVMp0cQt9tTE0OxDzOI7TaK4Ux/q7GOhHvYplo1EZup/WiH7TZkI415VIh3bakTgCwh3LXLEE9WvkeYRCbuuRy/lKP0SVxUS7oDghs0sVO3nWL6iiaJLKlptydiuN0uMYz5vyXZDrep+1RC3468D7ejayutllAVaLef9k/s024flyVrr5fKd3PZjYpJhPDS5JAZxOFAoE/oImgO2yqk87Okpt+OrhimatJvqxDeWNsfb0NNFOEv3nZtTGq1hMmtdntqpZh8pN0+bUxZ+QxhEpG453T6Eo7SGRzK9cOBgKA5bKPQ/qKCWAbq0G3W+Dvtn6xHn84etoy3ofZTlrDG286PV2rLRx/nATO+bdz3iOHprLn2rOX1EvluTltQMYkQXrqMi/WuYcFAgyYzXmH26goEukyJ6lO/HXWWn8Sw305dnLmfE+vibehW7Vxb8jreliqMmQTstx1jQ799rPY9hElE4p4TgrkdpTM4zFqHBwIVJsxgh9usrQ+pHRmk++1IYthvnza2uj7TZTRd3/N5u621r7Kcq90+odzo0tW1/0PFIXvpygS5CX7ot3w/jcmS7Dd3vpv7WqmYBAovFSaUlsM7t94QKoN1btBrPr4miVTqhtnTxJAq3bCtuvoEsW687XQGm8mY8TYULjXmdTHK54f2VVshhg9tYp0PhElg4p4bhLkdRWk5vtPrbA4358XbTvvTYZL4JOIuIBaRGI5nTZkj1o23IcsJx9tO+TuMedxfojbpa3Uy5mP3fp4xImCM6LNlLd/Nne/mtgMVk0CQdVaC0nLcwKNBk9mcOLtpYNBEm/tLwuxHlS7MTspXW8symvE21OWEMl602ZbPhm2LMB62kcvR4RiBkHPtYvk1wiQwcc8NwdyOUmGS+zprOz7CJG6Q8f3LIB1nP6p0cfbyeZP3xLppNtQHB7CccJwdGTPi7EaVLs5ebTGvts/mzndz24OKSYDw0o7PDWbxAUATa9Zcx9tOgoMO0iQ5YfZTYcKMdZi9/AFIZ/yJdePsR58dbzdlUYUdqxPCbEmfDbOT8mWhRZgEJO4lODqVo95z5oPNb/zmv9j5+8Mnzm9mEf/zD57b+Vx+956zH6Rkv8/Idb9w8oh9/vhP/tPGduf/w/eOfPe+X/4Qttu33c9fc8MR+whff/mzv97Y77e/8vs733/qM1/CdlfvNe99/z/dscvGZj/d2uycZzP57pduvRO77TN325kPHLFdX6y7/R8R6/yx7t23v/+IDf/rn//Fps9+7ZFvHfnujvfdDX/7/F37prccsY/0Ua3YyWv37+Of+gK2u3qvef8/+ciOXR78V1/f2EwmE1x76etrrr8Zu+0z5/ffWt+nyndLvX4qJh6wn/n8/QeBUQNkX3vfF79Mp9+3oSSJfbbyv/vz//Y/sN2+7f7+62+Mst3/fvX/Ybur95oL3/+zKLv9g/f8Y+y2z9yn7/utKNt94UtfwXbeePGJT30hyobf+Oa3seG+Dd90wy9G2e5HPBJ3w87//MlLUXZ7494pmPP6bakJeeh5IUwqcWgqR7lLQfxEuu095ebDMurV152ICpgf/sTnCJj7/euK1735YNlWG2f+Z9/57jPYbr9i4tum7/01b2T2UAe/m9767qj+evPbboM5bzx8/bFbomwoVSq1/9rbq95wU5TtpGq8dpvJ9f/L/QpJX5xzv8NmhzmKFVukyndLtQcVE2+gEUfpun63c7e9lt+V6thc56X3lLTZy/8s1zmWelx9TKZvp7b3//C9vwp7V+81x258e3Byw/8gOjpAE+uO2iQ2PoTakMemH7V1TMx7882/RMy7eq+54eZ3Bcc8sW8sz/z+KKel2QRh0pK4l+YkOZ+UjtKb3dsSQvczbkg+2oH1RjzXTm2v73/gIQKm17fEdiFJDoJ4l7vQ5Ibq5q7dJG7q45Xb+qj7GbHuqO10HAytspMkHrVhqO1kwkvtTbvXhE4AYqujzFmwScp8t0R7UDHxkkN10lCCSHLY3eFDgqbamXbXjiFJNknirs1CkhsSm12buf2OWNdtG9dOfa+HbEi1pNvGITFPJm367L+270ImABHC3czVzgvCpCNxL82xqR01VDUhOezu9ENBk0cH99uuL8lBELfbbii5IbFpt5vEcWJdt21Cx7khcUyS2G3jIdsxqdBuu0cee7J3SVcou/yu3b4l2yV1vlvatVIx6RFeXQkiyeFwR+4LmqV1gtLOpy/JRhC3s9cnhkls2m3mck+sG7aRa6+21102pFoybNu+mMekQrv9+gQdQrjdZm39tsbPECY9iXtJDp3DUV3rr0kOhzt9V9CkWhJmu7YkB0Hcb7uu5IbEpt9uEseJdcM2GhrvusQxSeKwbbtsxwMr+m3XNQE4xCrf99u1dPvMke+WdM1UTAaEjyhi9AAAEwJJREFUl58gkhyGd+i2oFkS/CWfS1uSjSDuZ68tuSGx6beZ2weIdeG2cu3mvvZtSLUk3KZtMY8HVvTbr20CECHcbzO3v9b6GmEykLiX4ti5HOXPJJIchnd6P2jyJK4427lJDoI4zHZ+ckNiE2Y3iePEunBbdY17vjgmSQy3qW87JhXCbOc/bKaLTT4Ps2cNdpor3y3l2qmYBAgvTRBJDuM7ths0S4G+lvNwk2wEcRh7rhgmsQmzmdsfiHXxNnPtJ6/VhlRL4m3pxjwmFcLs5wo6hHCYzfw+W9t7hElA4l6CU4ccdeW1NzZXXXfzqL/Td3ygeezffqeRduw+5Pgl2GnKOYyx4Y0nb9vY7ld+7ZOjbDflfEvZdiwzYrvf+eofNL/z1a+Nsp0etxQ7TDkPvZaQ9lfu+WTz9W8+2dx08rZgu621f/r2TBHrdJ9rtan0W+Fv7HgxpZ+Usq0yENvqePGJT38puO+2HaMUO0w5j7br6vrs058/txlnu75v+9xC/5xi35q3Hcp3a742OffVVExev/f2g3/CqE5dspXj1w7L0jbcu+X26m0mwX9JztqOVTt3cv5t15Xyszcef1f1rF3zppOz2ynG5nI+tbMnXMRc89TfHjtxa/U2kyR4qh2mbH/sRP3/82SJccNCTlJ7fBl7/to/xm5f+nYIk1NnFwmiFoIAwiS+TLzEAKNBqqstPQiFnF/XtaX6HGGSPg4iTOJtijCJt5kfAxAmYTa0kJOEjB0Wf6PMW7w2uSaECcIkeIYOYYIwyRUINRDP1SJMwpKZGPsjTOJtijCJt5nPJMIkzIYIk/jxPNf45x9Xmfc/t/IeYYIwQZjMeB8VFZM0wV8D8VwtwiQsmYmxP8Ik3qYIk3ib+UwiTMJsiDBJMzblEAPKfI5jL3FMhAnCBGGCMAlmYImg1HYMDcRztQiTsGQmxv4Ik3ibIkzibeYziTAJsyHCBGHSNtaW8BnCBGESnJSylCs+kFExibdZW2D0k4/U7xEmYclMjN0RJvE2RZjE28xnEmESZkOESZqxqW28mvszZX7u4+TaP8IEYYIwoWISzECuQKWBeK4WYRKWzMTYH2ESb1OESbzNfCYRJmE2RJggTHKN50PHRZggTIKTUiom8YGMikm8zdqClp98pH6PMAlLZmLsjjCJtynCJN5mPpMIkzAbIkzSjE1t49Xcnynzcx8n1/4RJggThAkVk2AGcgUqDcRztQiTsGQmxv4Ik3ibIkzibeYziTAJsyHCBGGSazwfOi7CBGESnJRSMYkPZFRM4m3WFrT85CP1e4RJWDITY3eESbxNESbxNvOZRJiE2RBhkmZsahuv5v5MmZ/7OLn2jzBBmCBMqJgEM5ArUGkgnqtFmIQlMzH2R5jE2xRhEm8zn0mESZgNESYIk1zj+dBxESYIk+CklIpJfCCjYhJvs7ag5Scfqd8jTMKSmRi7I0zibYowibeZzyTCJMyGCJM0Y1PbeDX3Z8r83MfJtX+ECcIEYULFJJiBXIFKA/FcLcIkLJmJsT/CJN6mCJN4m/lMIkzCbIgwQZjkGs+HjoswQZgEJ6VUTOIDGRWTeJu1BS0/+Uj9HmESlszE2B1hEm9ThEm8zXwmESZhNkSYpBmb2saruT9T5uc+Tq79I0wQJggTKibBDOQKVBqI52oRJmHJTIz9ESbxNkWYxNvMZxJhEmZDhAnCJNd4PnRchEmPMDn37KvNa5debS486HT08y82r738XHNus93DzYWXLzfPn3e+79ifhSAQVjHZ2uS1S5cb/Ttinx0bdttu75bbi0+YhzpYcMVEbOLY7JCxffs8+Fzz0qUXmyeUr0AbyqA9dI41fO8nH63vNzY65O5I31XbtbRrEibbuObY6eJTzY49PbaeuHi5eenZh/d/Ex7z1iRMxEY7/dez6a4Nu2PeqoSJH/Pc+CZ91It54TY8XX3MCx43nFgWah/t6xZykhrGrjnOUX04x75L2CfCxOnY6uxt+1Tz/CZRRJgoqGHC5KnmwkESc7Y5vj/47IgTL/HZtfvhoL0mYXLu2ecORcepfXF3IICPDtIbu7rfd3K8HmHyxEVHuJ0622wT8N3PulhbkzB54lmdWJG+th/n3ETa65+7CQ/C5AhDDz7XPO/GvH2bHoq5s82uDQ9jnL+v9QiTh5sLF10OtzbamZBBmOxOGLTG+N2JQJc5ny3/PcKEionmdqW1CJPWzr4/kFx8sXmJisnB7FOYMPEH3W3g3AmYXuLjB0x9vyZhotd80G4EnZNUe4M0wsTnrO39NuneEcUd/X1NwuSAsX1bbAScK3K9/rmbVCNMfPu1vfdtumvDNla3n61HmLTYYBPjnIlAL+aF23A9FZNDzlrG2Y5Yp7wiTBAmpQkSPR+ESVvn1YHZD5Rtvw38zEIQSCZMAm2GMHGESaDNdNBxW+3sNbfu9YS/RpiE2OowuWlJFidwt6alXL6dx9oUYeIIk5HsrfMeE4RJzeNb7LlrvIndrpbfI0z84OeKEfe1/7vI92sVJpsB2l87HGi79QqTbUK9U2UKtJkGLLetJRj1nad7PcGv/apTjw1XWzHZxLiw++SC7b5v5/UKk/gkUW27ZmEyVsyp7bRFmIRNMFjISfrGDMvfKetWrxFhspOseDOsCJODZVzSAYIrJpuEcP9mUHft+o6th4PnuoTJNpnZ3kA7fdZQA5e0FoKXez1Br/cT7lBxty5hso1zW9bSVOXafLJWYSJLjl4bORmzWmGyP2aELLtsY839DGEyPLaKvRAmLOUqNTdAmBwkyy2zXAiTnaQ2WJgc2PTw5vfQBNEdYNYlTNzBREVKmqSx1OATc14uF0Ovt1W6uCrAuoSJy9q+SHHvMXH774TX6xMm0225RmGyFXLpJmMQJm7/7n6NMEGYxIzBS/4WYaIDrzvL7z62VV9PmPm3MjsxSpjo05FGJD7rFSYymHjVO+V0RLtkQJnrWENiRL8fO1u9XmGiT3xLlxiqL1YlTCIrdGojv12XMNmfgBkxNvh2c98jTLrFiGsnhAnCZK7xeup+ESZ9iR4Vk+kVE4RJwCMf2wYShIkb3NwBtev1RpSMTHIQJggTlzd9LVx08Xbw+b4oSbMM6dadmKvnUVN71XU3D9tMH4k+ccLvwAfOOI4waRtPjn6GMEGYlBpXECZOQDsS5BAmO4NkSMXk3LMv7v5DygkzieupmDzVPO8N0GNn/o8wvJp7TETIjU+uVyNMjvzPjXlmrYXDtVRMNksHvf7b1g9DPltNxWQzLqRZqurbFWFyVIT4NpL3CBOECcLk6nkh0I7XZeiQpFr3cdAiTKKFif5DRfe/II+dSVyPMNF7Spz/Hj1y5v+AXUdwd/WJmj5vu66dz/YFsMvdwesAW65GmOg/VNQlqtImSqp3/LEiYbKdRHD6rmPb2Ni3GmHSt3R6Io8IE4RJTWPbmHPVWDtm2xq2oWLiJHDq7DlaC7MTo8TdBPuuR5iEDSRjuawhEA2d49hrD91uPcJkXtZce6+lYuJe89TXqxEmE8aFIRuvU5jE92sLOcnQuGH1e+0DVq8PYTJjgFR4pLUQBBAm8VW/K6+9MWC9dfyg4rI19NpC8Bq6xqnfI0zSM4gwibcpwiTeZn7fR5iE2dBCTmJhbBtzDcr8mG1r2AZhgjDZWa7VBy3CBGHSx8ec32kgnqtFmIQlMzH2R5jE2xRhEm8zn0mESZgNESbx4/mcY1zMvpX5mG1q+i3CBGGCMJnx/icqJmmCvwbiuVqESVgyE2N/hEm8TREm8TbzmUSYhNkQYZJmbMqR8CvzOY69xDERJggThAnCJJiBJYJS2zE0EM/VIkzCkpkY+yNM4m2KMIm3mc8kwiTMhggThEnbWFvCZwgThElwUspSrvhARsUk3mZtgdFPPlK/R5iEJTMxdkeYxNsUYRJvM59JhEmYDREmacamtvFq7s+U+bmPk2v/CBOECcKEikkwA7kClQbiuVqESVgyE2N/hEm8TREm8TbzmUSYhNkQYYIwyTWeDx0XYYIwCU5KqZjEBzIqJvE2awtafvKR+j3CJCyZibE7wiTepgiTeJv5TCJMwmyIMEkzNrWNV3N/pszPfZxc+0eYIEwQJlRMghnIFag0EM/VIkzCkpkY+yNM4m2KMIm3mc8kwiTMhggThEmu8XzouAgThElwUkrFJD6QUTGJt1lb0PKTj9TvESZhyUyM3REm8TZFmMTbzGcSYRJmQ4RJmrGpbbya+zNlfu7j5Nr/aoTJVdfdvPknh9IZc/zJ8XM5OdVxl7ahhcRGhEkO3txjpvJ/zv241zPHa1hLHxeJefE2hcN4m/nxABuG2dBC/8w5JuU8NsJkxmUuKR1r3VEpbcW+6p0pwXf4DgZgAAZgAAbWy4D1fHc1FRM68Xo7Mb7H9zAAAzAAAzAAAxYYQJhQMal+CZaFjsg1MKDAAAzAAAzAAAysnQGECcIEYVIJA2sPVlw/AzYMwAAMwAAM2GYAYVJJUmrdUQQa24EG/+JfGIABGIABGICBIQas57vcY1KJ8BoCle8JZjAAAzAAAzAAAzBgmwGESSWJu3VHEWhsBxr8i39hAAZgAAZgAAaGGLCe71IxqUR4DYHK9wQzGIABGIABGIABGLDNAMKkksTduqMINLYDDf7FvzAAAzAAAzAAA0MMWM93TVVMbnjrHc0Vr7uBp2hVIiaHOh/fE6BhAAZgAAZgAAZgYMuA5LiS64o4sWoTM8Lk+ptON8duOt1ce+yUWWdZhZDrYtCBARiAARiAARiAgX4GJMeVXFdyXqu2MiNMrrn+ZLP3lvdslKQ4jspJP9xWgea68DsMwAAMwAAMwIAlBiSnldxWqiWS60rOa+n63GsxI0yuuPrNzXV779g4TNSklrp0LR7t2U3pDztgBxiAARiAARiAARiohwHJaSW3FVEiua7kvG4yb+m1GWEiThFHiYqUEhcdrp4Oh6/wFQzAAAzAAAzAAAx0MyC5reS4lkWJ5PKmhIkqRnHaFa+zqyb1OmkpVcMADMAADMAADMCAbQYkp7UuSJRhk8JEL47WdkfFv/gXBmAABmAABmAABuwwgDDh0bpm1ykSqOwEKnyJL2EABmAABmDAPgMIE4QJwgQGYAAGYAAGYAAGYAAGsjOAMAHC7BAyA2J/BgQf42MYgAEYgAEYgIEhBhAmCBOECQzAAAzAAAzAAAzAAAxkZwBhAoTZIRxSz3zPDAsMwAAMwAAMwAAM2GcAYYIwQZjAAAzAAAzAAAzAAAzAQHYGECZAmB1CZkDsz4DgY3wMAzAAAzAAAzAwxADCBGGCMIEBGIABGIABGIABGICB7AwgTIAwO4RD6pnvmWGBARiAARiAARiAAfsMIEwQJggTGIABGIABGIABGIABGMjOAMIECLNDyAyI/RkQfIyPYQAGYAAGYAAGhhhAmCBMECYwAAMwAAMwAAMwAAMwkJ0BhAkQZodwSD3zPTMsMAADMAADMAADMGCfAYQJwgRhAgMwAAMwAAMwAAMwAAPZGUCYAGF2CJkBsT8Dgo/xMQzAAAzAAAzAwBADCBOECcIEBmAABmAABmAABmAABrIzgDABwuwQDqlnvmeGBQZgAAZgAAZgAAbsM4AwQZggTGAABmAABmAABmAABmAgOwMIEyDMDiEzIPZnQPAxPoYBGIABGIABGBhiAGGCMEGYwAAMwAAMwAAMwAAMwEB2BhAmQJgdwiH1zPfMsMAADMAADMAADMCAfQYQJggThAkMwAAMwAAMwAAMwAAMZGcAYQKE2SFkBsT+DAg+xscwAAMwAAMwAANDDCBMECYIExiAARiAARiAARiAARjIzgDCBAizQziknvmeGRYYgAEYgAEYgAEYsM8AwgRhgjCBARiAARiAARiAARiAgewMIEyAMDuEzIDYnwHBx/gYBmAABmAABmBgiAGECcIEYQIDMAADMAADMAADMAAD2RlAmABhdgiH1DPfM8MCAzAAAzAAAzAAA/YZQJggTBAmMAADMAADMAADMAADMJCdAYQJEGaHkBkQ+zMg+BgfwwAMwAAMwAAMDDGAMEGYIExgAAZgAAZgAAZgAAZgIDsDCBMgzA7hkHrme2ZYYAAGYAAGYAAGYMA+AwgThAnCBAZgAAZgAAZgAAZgAAayM4AwAcLsEDIDYn8GBB/jYxiAARiAARiAgSEGECYIE4QJDMAADMAADMAADMAADGRnAGEChNkhHFLPfM8MCwzAAAzAAAzAAAzYZwBhgjBBmMAADMAADMAADMAADMBAdgYQJkCYHUJmQOzPgOBjfAwDMAADMAADMDDEAMIEYYIwgQEYgAEYgAEYgAEYgIHsDCBMgDA7hEPqme+ZYYEBGIABGIABGIAB+wwgTBAmCBMYgAEYgAEYgAEYgAEYyM4AwgQIs0PIDIj9GRB8jI9hAAZgAAZgAAaGGECYIEwQJjAAAzAAAzAAAzAAAzCQnQGECRBmh3BIPfM9MywwAAMwAAMwAAMwYJ8BhAnCBGECAzAAAzAAAzAAAzAAA9kZ+P8tpnCW3SMIVAAAAABJRU5ErkJggg==)"
      ],
      "metadata": {
        "id": "3em4rvFcpQd8"
      }
    },
    {
      "cell_type": "markdown",
      "source": [
        "In the sample above we start searching for the Fibo number in the index 7, however with our current recursive approach there are complete data structures that are repeated in the recursive calculation. The full 5 index recursive call is repeated under the 6 index. All this can be descarted if we optimize the search by remembering an index that we already calculated.\n",
        "\n"
      ],
      "metadata": {
        "id": "xDP4f-Kgpe0R"
      }
    },
    {
      "cell_type": "markdown",
      "source": [
        "Now lets implement the memorization by creating a new optimized function\n"
      ],
      "metadata": {
        "id": "Z03hxyspq_44"
      }
    },
    {
      "cell_type": "code",
      "source": [
        "\n",
        "def fibo_opt(n, mem = dict()):\n",
        "  if (n in mem):\n",
        "    return mem[n]\n",
        "\n",
        "  if (n <= 2):\n",
        "    mem[n] = 1\n",
        "    return mem[n]\n",
        "  else:\n",
        "    mem[n] = fibo_opt(n-1, mem) + fibo_opt(n-2, mem)\n",
        "    return mem[n]\n",
        "\n",
        "print(fibo_opt(40))"
      ],
      "metadata": {
        "colab": {
          "base_uri": "https://localhost:8080/"
        },
        "id": "KajF6KtNrKZz",
        "outputId": "3ca31e06-4a0e-416d-c33d-56368e99908d"
      },
      "execution_count": null,
      "outputs": [
        {
          "output_type": "stream",
          "name": "stdout",
          "text": [
            "102334155\n"
          ]
        }
      ]
    },
    {
      "cell_type": "markdown",
      "source": [
        "Now running the fibo_opt optimized function it took less than 1 second to find the same fibonacci index that was taking 28 before the optimization."
      ],
      "metadata": {
        "id": "Zz1HAFjTv8u6"
      }
    }
  ]
}