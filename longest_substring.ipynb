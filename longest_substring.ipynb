{
  "nbformat": 4,
  "nbformat_minor": 0,
  "metadata": {
    "colab": {
      "provenance": [],
      "authorship_tag": "ABX9TyPI4DpTeRUEYXAvoMnGAExi",
      "include_colab_link": true
    },
    "kernelspec": {
      "name": "python3",
      "display_name": "Python 3"
    },
    "language_info": {
      "name": "python"
    }
  },
  "cells": [
    {
      "cell_type": "markdown",
      "metadata": {
        "id": "view-in-github",
        "colab_type": "text"
      },
      "source": [
        "<a href=\"https://colab.research.google.com/github/angeleliseo/code_challenges/blob/main/longest_substring.ipynb\" target=\"_parent\"><img src=\"https://colab.research.google.com/assets/colab-badge.svg\" alt=\"Open In Colab\"/></a>"
      ]
    },
    {
      "cell_type": "code",
      "execution_count": null,
      "metadata": {
        "id": "nqZ1pWL7oMN3"
      },
      "outputs": [],
      "source": [
        "\"\"\"\n",
        "Find out the longest non-repeatable charcters sub-string from string:\n",
        "str = \"sudbamdqual\"\n",
        "\"\"\""
      ]
    },
    {
      "cell_type": "markdown",
      "source": [
        "1. It is important to make difference between sequences and substrings\n",
        "### Sample:\n",
        "input= abcdefg\n",
        "\n",
        "the input above doenst have repeated substrings\n",
        "\n",
        "input = abcadh\n",
        "\n",
        "The input above does have repeated characters, so we have the following substrings:\n",
        "\n",
        "\"abc\"\n",
        "\"adh\"\n",
        "\"bca\"\n",
        "\"cadh\"\n",
        "\"bcadh\"\n",
        "\n",
        "It is asked to find the longest substring without repeating characters\n"
      ],
      "metadata": {
        "id": "LnwPyUuTouCW"
      }
    },
    {
      "cell_type": "code",
      "source": [
        "\n",
        "input = \"sudbamdqual\"\n",
        "window = dict ()\n",
        "left = 0\n",
        "right = 0\n",
        "lenght = 0\n",
        "longest_str = \"\"\n",
        "i =0\n",
        "\n",
        "\n",
        "\n",
        "for right in range(len(input)):\n",
        "  character = input[right]\n",
        "  #print(character)\n",
        "  if character in window and window[character] >= left:\n",
        "    left = window[character] + 1\n",
        "    #longest_str = str(list(longest_str).pop())\n",
        "  else:\n",
        "    lenght = max(lenght, right - left +1)\n",
        "    #longest_str = longest_str + character\n",
        "\n",
        "  window[character] = right\n",
        "\n",
        "print(lenght)\n",
        "print(longest_str)\n",
        "\n",
        "\n",
        "\n"
      ],
      "metadata": {
        "colab": {
          "base_uri": "https://localhost:8080/"
        },
        "id": "dgjl3Xder9jq",
        "outputId": "d1d4dee6-2ecf-4fe8-85dd-8ba0946620ee"
      },
      "execution_count": null,
      "outputs": [
        {
          "output_type": "stream",
          "name": "stdout",
          "text": [
            "6\n",
            "sudbamqul\n"
          ]
        }
      ]
    }
  ]
}