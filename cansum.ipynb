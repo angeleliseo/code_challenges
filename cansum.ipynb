{
  "nbformat": 4,
  "nbformat_minor": 0,
  "metadata": {
    "colab": {
      "provenance": [],
      "include_colab_link": true
    },
    "kernelspec": {
      "name": "python3",
      "display_name": "Python 3"
    },
    "language_info": {
      "name": "python"
    }
  },
  "cells": [
    {
      "cell_type": "markdown",
      "metadata": {
        "id": "view-in-github",
        "colab_type": "text"
      },
      "source": [
        "<a href=\"https://colab.research.google.com/github/angeleliseo/code_challenges/blob/main/cansum.ipynb\" target=\"_parent\"><img src=\"https://colab.research.google.com/assets/colab-badge.svg\" alt=\"Open In Colab\"/></a>"
      ]
    },
    {
      "cell_type": "code",
      "execution_count": null,
      "metadata": {
        "id": "9Vf22xkAVDAM"
      },
      "outputs": [],
      "source": [
        "# CanSum Algorithim\n",
        "\"\"\"\n",
        "Develop a function that given an integer number and an array of intergers can\n",
        "determine if the given number can be created by suming any number of members of\n",
        "array of integers.\n",
        "It as to return True if it can or False it is not possible.\n",
        "\"\"\""
      ]
    },
    {
      "cell_type": "markdown",
      "source": [
        "### Sample Positive case:\n",
        "Sample input:\n",
        "\n",
        "can_sum(7,[2,4,5,7])\n",
        "\n",
        "Sample Output:\n",
        "\n",
        "True\n",
        "\n",
        "---\n",
        "\n",
        "### Sample Negartive case:\n",
        "\n",
        "can_sum(7,[2,4])\n",
        "\n",
        "Sample Output:\n",
        "\n",
        "False\n"
      ],
      "metadata": {
        "id": "SsjjGjp_VH2c"
      }
    },
    {
      "cell_type": "markdown",
      "source": [
        "## Test Cases\n",
        "can_sum(7, [2,3]) --> True\n",
        "\n",
        "can_sum(7, [5,3,4,7]) --> True\n",
        "\n",
        "can_sum(7, [2,4]) --> False\n",
        "\n",
        "can_sum(8, [2,3,5]) --> True\n",
        "\n",
        "can_sum(300, [7,14]) --> False"
      ],
      "metadata": {
        "id": "Ox-SMjbuaZDG"
      }
    },
    {
      "cell_type": "code",
      "source": [
        "def can_sum(targetNum, arrayNum):\n",
        "  if (targetNum == 0):\n",
        "    return True\n",
        "  if (targetNum<0):\n",
        "    return False\n",
        "\n",
        "  for num in arrayNum:\n",
        "    substract = targetNum - num\n",
        "    if (can_sum(substract, arrayNum) == True):\n",
        "      return True\n",
        "\n",
        "  return False"
      ],
      "metadata": {
        "id": "s245unthbZDD"
      },
      "execution_count": null,
      "outputs": []
    },
    {
      "cell_type": "markdown",
      "source": [
        "### Testing our Function using the test cases:"
      ],
      "metadata": {
        "id": "ptwqsKj6c3oV"
      }
    },
    {
      "cell_type": "code",
      "source": [
        "print(can_sum(7, [2,3]))\n",
        "print(can_sum(7, [5,3,4,7]))\n",
        "print(can_sum(7, [2,4]))\n",
        "print(can_sum(8, [2,3,5]))\n",
        "#print(can_sum(300, [7,14]))"
      ],
      "metadata": {
        "colab": {
          "base_uri": "https://localhost:8080/"
        },
        "id": "pYXFBMASc3z2",
        "outputId": "6a94d71a-7207-4a9f-94a5-acc8539519b9"
      },
      "execution_count": null,
      "outputs": [
        {
          "output_type": "stream",
          "name": "stdout",
          "text": [
            "True\n",
            "True\n",
            "False\n",
            "True\n"
          ]
        }
      ]
    },
    {
      "cell_type": "markdown",
      "source": [
        "The recursive function is working, however the last test case takes much time, after 1 minute it was not able to finish.\n",
        "This is becasue the apprach is repeating too much inecessary combinations of sum. This can be solve by cutting combinations that are repeated by caching the results that are repeated and check if a given calculation already exist in the cache before processing."
      ],
      "metadata": {
        "id": "5cUq3qJFfx3p"
      }
    },
    {
      "cell_type": "markdown",
      "source": [
        "## Bulding the can_sum_opt function with cache\n"
      ],
      "metadata": {
        "id": "frdB50SegN7V"
      }
    },
    {
      "cell_type": "code",
      "source": [
        "def can_sum_opt(targetNum, arrayNum, cache):\n",
        "  if (targetNum in cache):\n",
        "    return cache[targetNum]\n",
        "  if (targetNum == 0):\n",
        "    return True\n",
        "  if (targetNum < 0):\n",
        "    return False\n",
        "\n",
        "  for num in arrayNum:\n",
        "    substract = targetNum - num\n",
        "    if (can_sum_opt(substract, arrayNum, cache) == True):\n",
        "      cache[targetNum] = True\n",
        "      return True\n",
        "\n",
        "  cache[targetNum] = False\n",
        "  return False"
      ],
      "metadata": {
        "id": "TZy0FKBUgVO7"
      },
      "execution_count": null,
      "outputs": []
    },
    {
      "cell_type": "code",
      "source": [
        "print(can_sum_opt(7, [2,3], dict()))\n",
        "print(can_sum_opt(7, [5,3,4,7], dict()))\n",
        "print(can_sum_opt(7, [2,4], dict()))\n",
        "print(can_sum_opt(8, [2,3,5], dict()))\n",
        "print(can_sum_opt(300, [7,14], dict()))"
      ],
      "metadata": {
        "colab": {
          "base_uri": "https://localhost:8080/"
        },
        "id": "utYVTWG_5CJ9",
        "outputId": "5194efd1-eb62-4973-b910-ef73a60f7c6c"
      },
      "execution_count": null,
      "outputs": [
        {
          "output_type": "stream",
          "name": "stdout",
          "text": [
            "True\n",
            "True\n",
            "False\n",
            "True\n",
            "False\n"
          ]
        }
      ]
    }
  ]
}