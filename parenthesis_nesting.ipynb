{
  "nbformat": 4,
  "nbformat_minor": 0,
  "metadata": {
    "colab": {
      "provenance": [],
      "authorship_tag": "ABX9TyNa7lKZ9BJe/qkh8Vb2YwC+",
      "include_colab_link": true
    },
    "kernelspec": {
      "name": "python3",
      "display_name": "Python 3"
    },
    "language_info": {
      "name": "python"
    }
  },
  "cells": [
    {
      "cell_type": "markdown",
      "metadata": {
        "id": "view-in-github",
        "colab_type": "text"
      },
      "source": [
        "<a href=\"https://colab.research.google.com/github/angeleliseo/code_challenges/blob/main/parenthesis_nesting.ipynb\" target=\"_parent\"><img src=\"https://colab.research.google.com/assets/colab-badge.svg\" alt=\"Open In Colab\"/></a>"
      ]
    },
    {
      "cell_type": "code",
      "execution_count": null,
      "metadata": {
        "id": "JPyvWRajc5XS"
      },
      "outputs": [],
      "source": [
        "\"\"\"\n",
        "Create a functoin that given a string that only contains \"()[]{}\" characters\n",
        "can determine if the parenthesis, brakets and curly brakets are rightly\n",
        "nested and closed.\n",
        "Meaning for each opening symbol there is a closing symbol.\n",
        "\n",
        "\"\"\""
      ]
    },
    {
      "cell_type": "markdown",
      "source": [
        "### Valid inputs\n",
        "\n",
        "1. ([{}])\n",
        "2. (){}[()]\n",
        "\n",
        "### Invalid Inputs\n",
        "\n",
        "1. [)([\n",
        "2. ][\n",
        "3. (()[]\n"
      ],
      "metadata": {
        "id": "iOwutE_xel4F"
      }
    },
    {
      "cell_type": "code",
      "source": [
        "def check_nesting(input):\n",
        "  str_validation = list()\n",
        "  for character in input:\n",
        "    if character==\"{\" or character==\"(\" or character==\"[\":\n",
        "      str_validation.append(character)\n",
        "    else:\n",
        "      if len(str_validation) == 0:\n",
        "        return False\n",
        "      else:\n",
        "        str_validation.pop()\n",
        "  if len(str_validation) > 0:\n",
        "    return False\n",
        "  else:\n",
        "    return True\n",
        "\n",
        "print(check_nesting(\"{[()]}()\"))\n",
        "print(check_nesting(\"(){}[()]\"))\n",
        "print(check_nesting(\"][\"))\n",
        "print(check_nesting(\"(()[]\"))\n",
        "print(check_nesting(\"[)([\"))\n"
      ],
      "metadata": {
        "colab": {
          "base_uri": "https://localhost:8080/"
        },
        "id": "3GvdWytVfZug",
        "outputId": "9732123c-40db-4770-808d-194792d9f8b6"
      },
      "execution_count": 24,
      "outputs": [
        {
          "output_type": "stream",
          "name": "stdout",
          "text": [
            "True\n",
            "True\n",
            "False\n",
            "False\n",
            "False\n"
          ]
        }
      ]
    }
  ]
}